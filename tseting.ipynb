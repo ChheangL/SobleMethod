{
 "cells": [
  {
   "cell_type": "code",
   "execution_count": null,
   "metadata": {},
   "outputs": [],
   "source": []
  },
  {
   "cell_type": "code",
   "execution_count": 2,
   "metadata": {},
   "outputs": [
    {
     "name": "stdout",
     "output_type": "stream",
     "text": [
      "Error opening image: --ip=127.0.0.1\n"
     ]
    }
   ],
   "source": [
    "import sys\n",
    "import cv2 as cv\n",
    "def main(argv):\n",
    "    \n",
    "    window_name = ('Sobel Demo - Simple Edge Detector')\n",
    "    scale = 1\n",
    "    delta = 0\n",
    "    ddepth = cv.CV_16S\n",
    "    \n",
    "    \n",
    "    if len(argv) < 1:\n",
    "        print ('Not enough parameters')\n",
    "        print ('Usage:\\nmorph_lines_detection.py < Testing >')\n",
    "        return -1\n",
    "    # Load the image\n",
    "    src = cv.imread(argv[0], cv.IMREAD_COLOR)\n",
    "    # Check if image is loaded fine\n",
    "    if src is None:\n",
    "        print ('Error opening image: ' + argv[0])\n",
    "        return -1\n",
    "    \n",
    "    \n",
    "    src = cv.GaussianBlur(src, (3, 3), 0)\n",
    "    \n",
    "    \n",
    "    gray = cv.cvtColor(src, cv.COLOR_BGR2GRAY)\n",
    "    \n",
    "    \n",
    "    grad_x = cv.Sobel(gray, ddepth, 1, 0, ksize=3, scale=scale, delta=delta, borderType=cv.BORDER_DEFAULT)\n",
    "    # Gradient-Y\n",
    "    # grad_y = cv.Scharr(gray,ddepth,0,1)\n",
    "    grad_y = cv.Sobel(gray, ddepth, 0, 1, ksize=3, scale=scale, delta=delta, borderType=cv.BORDER_DEFAULT)\n",
    "    \n",
    "    \n",
    "    abs_grad_x = cv.convertScaleAbs(grad_x)\n",
    "    abs_grad_y = cv.convertScaleAbs(grad_y)\n",
    "    \n",
    "    \n",
    "    grad = cv.addWeighted(abs_grad_x, 0.5, abs_grad_y, 0.5, 0)\n",
    "    \n",
    "    \n",
    "    cv.imshow(window_name, grad)\n",
    "    cv.waitKey(0)\n",
    "    \n",
    "    return 0\n",
    "if __name__ == \"__main__\":\n",
    "    main(sys.argv[1:])"
   ]
  }
 ],
 "metadata": {
  "kernelspec": {
   "display_name": "Python 3.10.8 64-bit",
   "language": "python",
   "name": "python3"
  },
  "language_info": {
   "codemirror_mode": {
    "name": "ipython",
    "version": 3
   },
   "file_extension": ".py",
   "mimetype": "text/x-python",
   "name": "python",
   "nbconvert_exporter": "python",
   "pygments_lexer": "ipython3",
   "version": "3.10.8"
  },
  "orig_nbformat": 4,
  "vscode": {
   "interpreter": {
    "hash": "fb6640f683fe3c2e0167d4fdf8a524550be8862d3e31263a3a7301ff5230fda0"
   }
  }
 },
 "nbformat": 4,
 "nbformat_minor": 2
}
